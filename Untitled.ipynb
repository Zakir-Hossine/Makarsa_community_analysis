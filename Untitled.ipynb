{
 "cells": [
  {
   "cell_type": "code",
   "execution_count": 66,
   "id": "6b960073",
   "metadata": {},
   "outputs": [],
   "source": []
  },
  {
   "cell_type": "code",
   "execution_count": 84,
   "id": "2680e260",
   "metadata": {},
   "outputs": [
    {
     "data": {
      "text/html": [
       "'Saved FeatureTable[Frequency] to: animal_secretion_feature_filtered_.qza'"
      ],
      "text/latex": [
       "'Saved FeatureTable{[}Frequency{]} to: animal\\_secretion\\_feature\\_filtered\\_.qza'"
      ],
      "text/markdown": [
       "'Saved FeatureTable[Frequency] to: animal_secretion_feature_filtered_.qza'"
      ],
      "text/plain": [
       "[1] \"Saved FeatureTable[Frequency] to: animal_secretion_feature_filtered_.qza\""
      ]
     },
     "metadata": {},
     "output_type": "display_data"
    },
    {
     "data": {
      "text/html": [
       "'Saved FeatureTable[Frequency] to: animal_secretion_both_filtered.qza'"
      ],
      "text/latex": [
       "'Saved FeatureTable{[}Frequency{]} to: animal\\_secretion\\_both\\_filtered.qza'"
      ],
      "text/markdown": [
       "'Saved FeatureTable[Frequency] to: animal_secretion_both_filtered.qza'"
      ],
      "text/plain": [
       "[1] \"Saved FeatureTable[Frequency] to: animal_secretion_both_filtered.qza\""
      ]
     },
     "metadata": {},
     "output_type": "display_data"
    }
   ],
   "source": [
    "path=\"/home/zakir/from_pendrive/PhD/makarsa_community_analysis/animal_secretion.qza\"\n",
    "system(paste(\"qiime feature-table filter-features\",\n",
    "             \"--i-table\", path,\n",
    "             \"--p-min-samples\",300,\n",
    "             \"--p-min-frequency\",3000, \n",
    "             \"--o-filtered-table\", \"animal_secretion_feature_filtered_.qza\"), intern=TRUE)\n",
    "\n",
    "system(paste(\"qiime feature-table filter-samples\",\n",
    "             \"--i-table\", \"animal_secretion_feature_filtered_.qza\",\n",
    "             \"--p-min-features\",500,\n",
    "             \"--p-min-frequency\",3000,\n",
    "             \"--o-filtered-table\", \"animal_secretion_both_filtered.qza\"), intern=TRUE)"
   ]
  },
  {
   "cell_type": "code",
   "execution_count": 85,
   "id": "eacc9c55",
   "metadata": {},
   "outputs": [],
   "source": [
    "data <- read.table(\"table.tsv\", header = TRUE, sep = \"\\t\")\n"
   ]
  },
  {
   "cell_type": "code",
   "execution_count": 36,
   "id": "fa81e0df",
   "metadata": {},
   "outputs": [],
   "source": [
    "# for features filtering\n",
    "#11423 × 21582 for 20 100\n",
    "# 9123 × 21582 for 20 200\n",
    "#6687 × 21582 for 20 400\n",
    "#6487 × 21582 for 30 400\n",
    "#5898 × 21582 for 30 500\n",
    "#3942 × 21580 for 100 800\n",
    "#3668 × 21579 for 100 1000\n",
    "#3177 × 21579 for 100 1500\n",
    "#2863 × 21577 for 100 2000\n",
    "#2617 × 21577 for 100 2500"
   ]
  },
  {
   "cell_type": "code",
   "execution_count": 70,
   "id": "0f6c97ab",
   "metadata": {},
   "outputs": [],
   "source": [
    "#for features and samples filtering\n",
    "#3177 × 16408 for 100 1500 100 2500\n",
    "#3177 × 10988 for 100 1500 200 2500\n",
    "#3176 × 5557 for 100 1500 300 3000\n",
    "#3133 × 920 for 100 1500 500 3000\n",
    "#2391 × 645 for 100 3000 500 3000\n",
    "#2134 × 610 for 200 3000 500 3000\n",
    "#1900 × 548 for 300 3000 500 3000"
   ]
  },
  {
   "cell_type": "code",
   "execution_count": null,
   "id": "87973d75",
   "metadata": {},
   "outputs": [],
   "source": []
  },
  {
   "cell_type": "code",
   "execution_count": 86,
   "id": "2dd1cbde",
   "metadata": {},
   "outputs": [
    {
     "data": {
      "text/html": [
       "<table class=\"dataframe\">\n",
       "<caption>A data.frame: 1900 × 548</caption>\n",
       "<thead>\n",
       "\t<tr><th scope=col>X669126</th><th scope=col>X0.0</th><th scope=col>X0.0.1</th><th scope=col>X132.0</th><th scope=col>X178.0</th><th scope=col>X944.0</th><th scope=col>X67.0</th><th scope=col>X316.0</th><th scope=col>X1549.0</th><th scope=col>X9.0</th><th scope=col>⋯</th><th scope=col>X991.0</th><th scope=col>X0.0.310</th><th scope=col>X0.0.311</th><th scope=col>X2.0.10</th><th scope=col>X192.0</th><th scope=col>X143.0</th><th scope=col>X48.0</th><th scope=col>X6.0.2</th><th scope=col>X14.0.2</th><th scope=col>X0.0.312</th></tr>\n",
       "\t<tr><th scope=col>&lt;int&gt;</th><th scope=col>&lt;dbl&gt;</th><th scope=col>&lt;dbl&gt;</th><th scope=col>&lt;dbl&gt;</th><th scope=col>&lt;dbl&gt;</th><th scope=col>&lt;dbl&gt;</th><th scope=col>&lt;dbl&gt;</th><th scope=col>&lt;dbl&gt;</th><th scope=col>&lt;dbl&gt;</th><th scope=col>&lt;dbl&gt;</th><th scope=col>⋯</th><th scope=col>&lt;dbl&gt;</th><th scope=col>&lt;dbl&gt;</th><th scope=col>&lt;dbl&gt;</th><th scope=col>&lt;dbl&gt;</th><th scope=col>&lt;dbl&gt;</th><th scope=col>&lt;dbl&gt;</th><th scope=col>&lt;dbl&gt;</th><th scope=col>&lt;dbl&gt;</th><th scope=col>&lt;dbl&gt;</th><th scope=col>&lt;dbl&gt;</th></tr>\n",
       "</thead>\n",
       "<tbody>\n",
       "\t<tr><td>4479397</td><td>  0</td><td>  0</td><td>   0</td><td>  1</td><td> 0</td><td>  0</td><td> 0</td><td> 23</td><td> 12</td><td>⋯</td><td> 0</td><td> 52</td><td> 48</td><td> 1</td><td>  0</td><td>  0</td><td>760</td><td> 0</td><td>  0</td><td>115</td></tr>\n",
       "\t<tr><td> 163857</td><td>  0</td><td>  0</td><td>   0</td><td>  0</td><td> 4</td><td> 10</td><td> 0</td><td>  0</td><td>  0</td><td>⋯</td><td>42</td><td>  0</td><td>  0</td><td> 0</td><td>  0</td><td>  9</td><td>  0</td><td> 0</td><td>  0</td><td>  0</td></tr>\n",
       "\t<tr><td>4377731</td><td>  0</td><td>  0</td><td>   0</td><td>  0</td><td> 1</td><td>  1</td><td> 0</td><td>  0</td><td>  0</td><td>⋯</td><td> 0</td><td>  0</td><td>  0</td><td> 0</td><td>  0</td><td>  0</td><td>  0</td><td> 0</td><td>  0</td><td>  0</td></tr>\n",
       "\t<tr><td>4393532</td><td>  0</td><td>  0</td><td>   1</td><td>  0</td><td> 0</td><td>  0</td><td> 0</td><td>  0</td><td>  0</td><td>⋯</td><td> 0</td><td>  0</td><td>  0</td><td> 0</td><td>  0</td><td>  0</td><td>  1</td><td> 0</td><td>  0</td><td>  0</td></tr>\n",
       "\t<tr><td>4426298</td><td>  0</td><td>  0</td><td>   0</td><td>  0</td><td> 0</td><td>  0</td><td> 0</td><td>  1</td><td>  0</td><td>⋯</td><td> 0</td><td>  0</td><td>  4</td><td> 1</td><td>  0</td><td>  0</td><td>  4</td><td> 0</td><td>  0</td><td>  0</td></tr>\n",
       "\t<tr><td> 887744</td><td> 25</td><td> 44</td><td>   5</td><td>  0</td><td>18</td><td>173</td><td> 2</td><td>  0</td><td>  0</td><td>⋯</td><td>20</td><td>138</td><td>  0</td><td>14</td><td> 24</td><td> 17</td><td>  0</td><td> 5</td><td>  0</td><td>  0</td></tr>\n",
       "\t<tr><td> 187535</td><td>  0</td><td>137</td><td>   0</td><td>  5</td><td> 0</td><td>  0</td><td> 0</td><td>  0</td><td>  0</td><td>⋯</td><td> 0</td><td>  0</td><td>480</td><td> 2</td><td>  0</td><td>  0</td><td>  0</td><td> 0</td><td>  0</td><td> 84</td></tr>\n",
       "\t<tr><td>4435655</td><td>  0</td><td>  0</td><td>   0</td><td>  0</td><td> 0</td><td>  0</td><td> 0</td><td>  0</td><td>  0</td><td>⋯</td><td> 0</td><td>  0</td><td>  0</td><td> 0</td><td>  0</td><td>  0</td><td>  0</td><td> 6</td><td>  1</td><td>  0</td></tr>\n",
       "\t<tr><td> 134265</td><td>  0</td><td> 28</td><td>   2</td><td>  0</td><td> 0</td><td>  0</td><td> 0</td><td>  9</td><td>  9</td><td>⋯</td><td> 0</td><td>217</td><td>  0</td><td> 0</td><td>  1</td><td>  0</td><td>  0</td><td> 0</td><td>  1</td><td>  0</td></tr>\n",
       "\t<tr><td>4467810</td><td>  0</td><td>  0</td><td>   0</td><td>  0</td><td> 0</td><td>  0</td><td> 0</td><td>  1</td><td>  0</td><td>⋯</td><td> 0</td><td>  1</td><td>  0</td><td> 0</td><td>  9</td><td>  0</td><td>  0</td><td> 0</td><td>  1</td><td>  0</td></tr>\n",
       "\t<tr><td>4414822</td><td>  0</td><td>  0</td><td>   0</td><td>  0</td><td> 0</td><td>  0</td><td> 0</td><td>  0</td><td>  1</td><td>⋯</td><td> 0</td><td>  0</td><td>  0</td><td> 0</td><td>  1</td><td>  0</td><td> 14</td><td> 0</td><td> 92</td><td>  0</td></tr>\n",
       "\t<tr><td>4364176</td><td>  0</td><td>  0</td><td>   0</td><td>  0</td><td>16</td><td>  2</td><td>57</td><td> 62</td><td>  2</td><td>⋯</td><td>13</td><td>  0</td><td>  0</td><td> 0</td><td> 15</td><td> 34</td><td>  0</td><td> 0</td><td>  0</td><td>  0</td></tr>\n",
       "\t<tr><td>  92512</td><td>  1</td><td>  0</td><td>   4</td><td>  0</td><td>10</td><td>  3</td><td> 0</td><td>  0</td><td> 62</td><td>⋯</td><td>11</td><td>  0</td><td>  0</td><td>12</td><td> 73</td><td>  0</td><td>  4</td><td> 6</td><td>  0</td><td>  0</td></tr>\n",
       "\t<tr><td>4344651</td><td>  0</td><td>  0</td><td>   0</td><td>  0</td><td> 0</td><td>  0</td><td> 0</td><td>  0</td><td>  0</td><td>⋯</td><td> 0</td><td>  0</td><td>  0</td><td> 0</td><td>  0</td><td>  0</td><td>  0</td><td> 0</td><td>  4</td><td>  0</td></tr>\n",
       "\t<tr><td>4380450</td><td>  0</td><td>  0</td><td>   0</td><td>  0</td><td> 0</td><td>  1</td><td> 0</td><td>  0</td><td>  0</td><td>⋯</td><td> 0</td><td>  0</td><td>  0</td><td> 0</td><td>  0</td><td>  0</td><td>  0</td><td> 0</td><td>  0</td><td>  0</td></tr>\n",
       "\t<tr><td>4478125</td><td>  0</td><td>  9</td><td>   1</td><td>  0</td><td> 1</td><td>  5</td><td> 0</td><td>  1</td><td>  1</td><td>⋯</td><td> 2</td><td>  0</td><td>  1</td><td> 0</td><td>  0</td><td>  8</td><td> 15</td><td> 3</td><td>121</td><td>  0</td></tr>\n",
       "\t<tr><td> 164237</td><td>  0</td><td>  2</td><td>   0</td><td>  1</td><td> 0</td><td>  0</td><td> 0</td><td>  0</td><td>  0</td><td>⋯</td><td> 0</td><td>  0</td><td>142</td><td> 0</td><td>  0</td><td>  0</td><td>  2</td><td> 0</td><td>  0</td><td> 20</td></tr>\n",
       "\t<tr><td>   8281</td><td>  0</td><td>  1</td><td>   0</td><td>  0</td><td> 0</td><td>  0</td><td> 0</td><td>  0</td><td>  0</td><td>⋯</td><td> 0</td><td>  0</td><td>  0</td><td> 0</td><td>  0</td><td>  0</td><td>  0</td><td> 2</td><td>  0</td><td>  1</td></tr>\n",
       "\t<tr><td>4327233</td><td>  0</td><td>  0</td><td>   0</td><td>  0</td><td> 0</td><td>  0</td><td> 0</td><td>  0</td><td>  1</td><td>⋯</td><td> 0</td><td>  0</td><td>  0</td><td> 0</td><td>  0</td><td>  0</td><td>  0</td><td> 0</td><td> 17</td><td>  4</td></tr>\n",
       "\t<tr><td> 367879</td><td>  1</td><td>  0</td><td>   0</td><td>  0</td><td> 0</td><td>  0</td><td> 0</td><td>  0</td><td>  0</td><td>⋯</td><td> 0</td><td>  0</td><td>  1</td><td> 1</td><td>  0</td><td>  0</td><td>  0</td><td> 0</td><td> 61</td><td>  0</td></tr>\n",
       "\t<tr><td>4419886</td><td>  0</td><td>  0</td><td>   0</td><td>  2</td><td> 0</td><td>  0</td><td> 1</td><td>  0</td><td>  0</td><td>⋯</td><td> 0</td><td>  5</td><td>  2</td><td> 1</td><td>  0</td><td>  0</td><td>  0</td><td> 3</td><td>  4</td><td>  3</td></tr>\n",
       "\t<tr><td>1887414</td><td>  0</td><td>  0</td><td>   1</td><td>  5</td><td> 9</td><td>  0</td><td>26</td><td>  2</td><td>  1</td><td>⋯</td><td> 2</td><td>  0</td><td>  0</td><td> 0</td><td>  1</td><td> 29</td><td>  0</td><td> 2</td><td>  0</td><td>  0</td></tr>\n",
       "\t<tr><td>  92535</td><td>348</td><td> 10</td><td> 710</td><td>143</td><td>54</td><td>255</td><td>39</td><td> 20</td><td>124</td><td>⋯</td><td>80</td><td> 42</td><td>  7</td><td>71</td><td> 12</td><td>115</td><td>  2</td><td>18</td><td>  5</td><td> 14</td></tr>\n",
       "\t<tr><td>4459196</td><td>  0</td><td>  0</td><td>   0</td><td>  0</td><td> 0</td><td>  0</td><td> 0</td><td>  0</td><td>  0</td><td>⋯</td><td> 0</td><td>  0</td><td>  1</td><td> 0</td><td>  0</td><td>  1</td><td> 61</td><td> 0</td><td>  0</td><td>  0</td></tr>\n",
       "\t<tr><td>4480529</td><td>  0</td><td>  0</td><td>   1</td><td>  0</td><td> 0</td><td>  0</td><td> 0</td><td>  1</td><td>  0</td><td>⋯</td><td> 0</td><td>  0</td><td> 23</td><td> 0</td><td>  0</td><td>  0</td><td> 25</td><td> 0</td><td>  1</td><td>  0</td></tr>\n",
       "\t<tr><td> 374568</td><td>  0</td><td>  0</td><td>   0</td><td>  0</td><td> 0</td><td>  0</td><td> 0</td><td>  0</td><td>  6</td><td>⋯</td><td> 0</td><td>  0</td><td>  0</td><td> 0</td><td>  0</td><td>  0</td><td>  0</td><td> 0</td><td>  0</td><td>  0</td></tr>\n",
       "\t<tr><td>4447105</td><td>  0</td><td>  0</td><td>   1</td><td>  1</td><td> 0</td><td>  0</td><td> 0</td><td>  2</td><td>  0</td><td>⋯</td><td> 0</td><td> 36</td><td>  0</td><td> 0</td><td>  1</td><td>  1</td><td>  0</td><td> 0</td><td> 44</td><td>  0</td></tr>\n",
       "\t<tr><td>4346127</td><td>  8</td><td>  0</td><td>2793</td><td>188</td><td>16</td><td>  0</td><td>92</td><td>293</td><td> 40</td><td>⋯</td><td>24</td><td>111</td><td>  2</td><td>18</td><td>222</td><td>  6</td><td>  5</td><td>33</td><td>515</td><td>  1</td></tr>\n",
       "\t<tr><td> 435512</td><td>  2</td><td>  0</td><td>   0</td><td>  0</td><td> 0</td><td>  0</td><td> 0</td><td>  0</td><td>  0</td><td>⋯</td><td> 0</td><td>  0</td><td>  0</td><td> 0</td><td>  0</td><td>  0</td><td>  0</td><td> 0</td><td>  4</td><td>  0</td></tr>\n",
       "\t<tr><td>4365130</td><td>  0</td><td>  0</td><td>   0</td><td>  0</td><td> 0</td><td>  0</td><td> 0</td><td>  2</td><td>  1</td><td>⋯</td><td> 0</td><td>  4</td><td>  0</td><td> 0</td><td>  0</td><td>  4</td><td>436</td><td> 0</td><td>  1</td><td>  0</td></tr>\n",
       "\t<tr><td>⋮</td><td>⋮</td><td>⋮</td><td>⋮</td><td>⋮</td><td>⋮</td><td>⋮</td><td>⋮</td><td>⋮</td><td>⋮</td><td>⋱</td><td>⋮</td><td>⋮</td><td>⋮</td><td>⋮</td><td>⋮</td><td>⋮</td><td>⋮</td><td>⋮</td><td>⋮</td><td>⋮</td></tr>\n",
       "\t<tr><td> 109382</td><td> 0</td><td>   2</td><td>   0</td><td>  0</td><td>   0</td><td>   0</td><td>   0</td><td>   0</td><td> 0</td><td>⋯</td><td>   0</td><td>   0</td><td>  0</td><td>  0</td><td>   0</td><td>  0</td><td>   0</td><td> 0</td><td>   7</td><td>  0</td></tr>\n",
       "\t<tr><td>4457872</td><td> 0</td><td> 135</td><td>   0</td><td>  0</td><td>   0</td><td>   1</td><td>   0</td><td>   2</td><td> 0</td><td>⋯</td><td>   1</td><td>  59</td><td>  0</td><td>  0</td><td>   1</td><td>  1</td><td> 267</td><td> 1</td><td>  55</td><td>  0</td></tr>\n",
       "\t<tr><td>  13463</td><td> 0</td><td>   0</td><td>   0</td><td>  0</td><td>   0</td><td>   0</td><td>   0</td><td>   0</td><td> 0</td><td>⋯</td><td>   0</td><td>   4</td><td> 12</td><td>  0</td><td>   0</td><td>  0</td><td>   0</td><td> 1</td><td>   2</td><td>  0</td></tr>\n",
       "\t<tr><td> 269907</td><td>42</td><td>1612</td><td>  11</td><td> 44</td><td>1146</td><td>3671</td><td>  66</td><td>1292</td><td>59</td><td>⋯</td><td>1053</td><td>1469</td><td> 29</td><td>611</td><td> 131</td><td>312</td><td>  18</td><td>16</td><td>3558</td><td> 69</td></tr>\n",
       "\t<tr><td> 576819</td><td> 0</td><td>   0</td><td>   0</td><td>  0</td><td>   0</td><td>   1</td><td>   0</td><td>   0</td><td> 0</td><td>⋯</td><td>   0</td><td>   0</td><td>  0</td><td>  0</td><td>   0</td><td>  0</td><td>   0</td><td> 0</td><td>   0</td><td>  0</td></tr>\n",
       "\t<tr><td> 399903</td><td> 0</td><td>   0</td><td> 104</td><td> 49</td><td>  94</td><td> 128</td><td>1130</td><td> 169</td><td> 0</td><td>⋯</td><td>  92</td><td>   0</td><td>  0</td><td>  0</td><td>   0</td><td>219</td><td> 230</td><td> 0</td><td>   0</td><td>  0</td></tr>\n",
       "\t<tr><td>4419276</td><td> 3</td><td>  49</td><td>   0</td><td>  0</td><td>   0</td><td>   0</td><td>   0</td><td>   2</td><td> 0</td><td>⋯</td><td>   0</td><td>   1</td><td>  2</td><td> 12</td><td>   0</td><td>  0</td><td>   0</td><td> 3</td><td> 235</td><td>  1</td></tr>\n",
       "\t<tr><td> 248902</td><td> 0</td><td>   0</td><td>   0</td><td>  0</td><td>   0</td><td>   0</td><td>   0</td><td>   0</td><td> 0</td><td>⋯</td><td>   2</td><td>   0</td><td>  0</td><td>  0</td><td>   1</td><td>  0</td><td>  12</td><td> 0</td><td>   0</td><td>  0</td></tr>\n",
       "\t<tr><td> 536008</td><td> 0</td><td>   0</td><td>   0</td><td>  0</td><td>   0</td><td>   0</td><td>   0</td><td>   0</td><td> 0</td><td>⋯</td><td>   0</td><td>   0</td><td>  0</td><td>  0</td><td>   0</td><td>  0</td><td>   0</td><td> 0</td><td>   0</td><td>  0</td></tr>\n",
       "\t<tr><td> 540055</td><td> 0</td><td>   0</td><td>   0</td><td>  0</td><td>   0</td><td>   0</td><td>   0</td><td>   0</td><td> 0</td><td>⋯</td><td>   0</td><td>   0</td><td>  0</td><td>  0</td><td>   0</td><td>  0</td><td>   0</td><td> 1</td><td>   0</td><td>  0</td></tr>\n",
       "\t<tr><td>4347159</td><td> 5</td><td>  31</td><td>  10</td><td>  6</td><td>   1</td><td>   9</td><td>   4</td><td>  66</td><td>44</td><td>⋯</td><td>  10</td><td>  84</td><td> 24</td><td>  5</td><td>   4</td><td>  0</td><td>2125</td><td> 3</td><td>  53</td><td>  8</td></tr>\n",
       "\t<tr><td> 514453</td><td> 0</td><td>   1</td><td>   0</td><td>  0</td><td>   0</td><td>   0</td><td>   0</td><td>   0</td><td> 0</td><td>⋯</td><td>   0</td><td>  11</td><td>  0</td><td>  0</td><td>   0</td><td>  0</td><td>   0</td><td> 0</td><td>  15</td><td>  0</td></tr>\n",
       "\t<tr><td> 137408</td><td> 0</td><td>   0</td><td>   0</td><td>  0</td><td>   0</td><td>   0</td><td>   0</td><td>   0</td><td> 0</td><td>⋯</td><td>   0</td><td>   0</td><td>  2</td><td>  0</td><td>   0</td><td>  0</td><td>   0</td><td> 0</td><td>   0</td><td>  0</td></tr>\n",
       "\t<tr><td> 230213</td><td> 0</td><td>   0</td><td>   0</td><td>  0</td><td>   0</td><td>   0</td><td>   0</td><td>   0</td><td> 0</td><td>⋯</td><td>   0</td><td>   0</td><td>  0</td><td>  0</td><td>   0</td><td>  0</td><td>   0</td><td> 0</td><td>   1</td><td>  0</td></tr>\n",
       "\t<tr><td>  74192</td><td> 0</td><td>   1</td><td>   0</td><td>  0</td><td>   0</td><td>   0</td><td>   0</td><td>   0</td><td> 0</td><td>⋯</td><td>   0</td><td>   0</td><td>  0</td><td>  2</td><td>   0</td><td>  0</td><td>   0</td><td> 0</td><td>   0</td><td>  0</td></tr>\n",
       "\t<tr><td>1980945</td><td> 0</td><td>   0</td><td>   0</td><td>  0</td><td>   0</td><td>   0</td><td>   0</td><td>   0</td><td> 5</td><td>⋯</td><td>   0</td><td>   2</td><td>  0</td><td>  1</td><td>   1</td><td>  0</td><td>   0</td><td> 0</td><td>   0</td><td>  0</td></tr>\n",
       "\t<tr><td>  12558</td><td> 0</td><td>   0</td><td>  10</td><td>  0</td><td>   6</td><td>   1</td><td>   1</td><td>   1</td><td> 3</td><td>⋯</td><td>   3</td><td>  13</td><td>  0</td><td>  0</td><td>   6</td><td>  8</td><td>   0</td><td> 0</td><td>   2</td><td>  1</td></tr>\n",
       "\t<tr><td>4473227</td><td>62</td><td> 114</td><td>2104</td><td>364</td><td> 682</td><td> 218</td><td> 782</td><td>1266</td><td>91</td><td>⋯</td><td> 963</td><td>6333</td><td> 26</td><td>111</td><td>1657</td><td>551</td><td>  31</td><td>19</td><td>2186</td><td> 12</td></tr>\n",
       "\t<tr><td>1067006</td><td>23</td><td>   3</td><td>   1</td><td>  0</td><td>  28</td><td>   7</td><td>   0</td><td>   0</td><td> 2</td><td>⋯</td><td>  36</td><td>  25</td><td>  1</td><td>  8</td><td>   0</td><td>  7</td><td>   0</td><td> 1</td><td>   1</td><td>  0</td></tr>\n",
       "\t<tr><td> 163494</td><td> 0</td><td>   0</td><td>   0</td><td>  0</td><td>   0</td><td>   0</td><td>   0</td><td>   0</td><td> 0</td><td>⋯</td><td>   0</td><td>   0</td><td>  0</td><td>  0</td><td>   0</td><td>  0</td><td>  37</td><td> 0</td><td>   0</td><td>  0</td></tr>\n",
       "\t<tr><td> 787709</td><td> 0</td><td>   0</td><td>   0</td><td>  0</td><td>   0</td><td>   0</td><td>   0</td><td>   0</td><td> 0</td><td>⋯</td><td>   0</td><td>   0</td><td>  0</td><td>  0</td><td>   0</td><td>  0</td><td>   0</td><td> 0</td><td>   0</td><td>  0</td></tr>\n",
       "\t<tr><td> 185420</td><td> 0</td><td>   0</td><td>   0</td><td>  0</td><td>   0</td><td>   0</td><td>   0</td><td>   0</td><td> 1</td><td>⋯</td><td>   0</td><td>   0</td><td>  0</td><td>  0</td><td>   0</td><td>  0</td><td> 234</td><td> 1</td><td>   0</td><td>  0</td></tr>\n",
       "\t<tr><td>4474760</td><td> 0</td><td>   0</td><td>   0</td><td>  0</td><td>   0</td><td>   0</td><td>   0</td><td>   0</td><td> 0</td><td>⋯</td><td>   2</td><td>   0</td><td>  1</td><td>  0</td><td>   0</td><td>  0</td><td>  11</td><td> 0</td><td>   0</td><td>  0</td></tr>\n",
       "\t<tr><td>4468125</td><td> 0</td><td>   0</td><td>   1</td><td>  0</td><td>   0</td><td>   0</td><td>   0</td><td>   0</td><td> 0</td><td>⋯</td><td>   0</td><td>   0</td><td>  0</td><td>  0</td><td>   0</td><td>  0</td><td>   0</td><td> 0</td><td>   0</td><td>  0</td></tr>\n",
       "\t<tr><td>4472294</td><td> 6</td><td>   3</td><td>   6</td><td>522</td><td>  20</td><td>  46</td><td>  65</td><td>  21</td><td> 3</td><td>⋯</td><td>  28</td><td>  26</td><td>  1</td><td> 54</td><td>  43</td><td> 13</td><td>   3</td><td> 0</td><td>   2</td><td>  1</td></tr>\n",
       "\t<tr><td>4433523</td><td> 2</td><td>   4</td><td>   0</td><td>  0</td><td>   0</td><td>   0</td><td>   0</td><td>   2</td><td> 0</td><td>⋯</td><td>   0</td><td> 669</td><td>  0</td><td>  8</td><td>  28</td><td>  1</td><td>   0</td><td> 0</td><td>   0</td><td>  0</td></tr>\n",
       "\t<tr><td> 239461</td><td> 0</td><td>   0</td><td>   0</td><td>  0</td><td>   0</td><td>   0</td><td>   0</td><td>   0</td><td> 1</td><td>⋯</td><td>   0</td><td>   0</td><td>  0</td><td>  0</td><td>   0</td><td>  0</td><td>   0</td><td> 0</td><td>   0</td><td>  0</td></tr>\n",
       "\t<tr><td> 289990</td><td> 0</td><td>   0</td><td>   0</td><td>  0</td><td>   0</td><td>   0</td><td>   0</td><td>   0</td><td> 0</td><td>⋯</td><td>   0</td><td>   1</td><td>  0</td><td>  0</td><td>   0</td><td>  0</td><td>   0</td><td> 0</td><td>  43</td><td>  0</td></tr>\n",
       "\t<tr><td> 270391</td><td> 0</td><td> 202</td><td>   0</td><td>  1</td><td>   0</td><td>   0</td><td>   0</td><td>   0</td><td> 0</td><td>⋯</td><td>   0</td><td>   0</td><td>960</td><td>  1</td><td>   0</td><td>  0</td><td>  20</td><td> 0</td><td>   0</td><td>102</td></tr>\n",
       "\t<tr><td>4445508</td><td>16</td><td>   1</td><td>  16</td><td>  5</td><td>   8</td><td>  10</td><td>   0</td><td>   3</td><td> 8</td><td>⋯</td><td>   7</td><td>   4</td><td>  2</td><td>  9</td><td>   7</td><td>  3</td><td>   5</td><td> 0</td><td>   5</td><td>  1</td></tr>\n",
       "</tbody>\n",
       "</table>\n"
      ],
      "text/latex": [
       "A data.frame: 1900 × 548\n",
       "\\begin{tabular}{lllllllllllllllllllll}\n",
       " X669126 & X0.0 & X0.0.1 & X132.0 & X178.0 & X944.0 & X67.0 & X316.0 & X1549.0 & X9.0 & ⋯ & X991.0 & X0.0.310 & X0.0.311 & X2.0.10 & X192.0 & X143.0 & X48.0 & X6.0.2 & X14.0.2 & X0.0.312\\\\\n",
       " <int> & <dbl> & <dbl> & <dbl> & <dbl> & <dbl> & <dbl> & <dbl> & <dbl> & <dbl> & ⋯ & <dbl> & <dbl> & <dbl> & <dbl> & <dbl> & <dbl> & <dbl> & <dbl> & <dbl> & <dbl>\\\\\n",
       "\\hline\n",
       "\t 4479397 &   0 &   0 &    0 &   1 &  0 &   0 &  0 &  23 &  12 & ⋯ &  0 &  52 &  48 &  1 &   0 &   0 & 760 &  0 &   0 & 115\\\\\n",
       "\t  163857 &   0 &   0 &    0 &   0 &  4 &  10 &  0 &   0 &   0 & ⋯ & 42 &   0 &   0 &  0 &   0 &   9 &   0 &  0 &   0 &   0\\\\\n",
       "\t 4377731 &   0 &   0 &    0 &   0 &  1 &   1 &  0 &   0 &   0 & ⋯ &  0 &   0 &   0 &  0 &   0 &   0 &   0 &  0 &   0 &   0\\\\\n",
       "\t 4393532 &   0 &   0 &    1 &   0 &  0 &   0 &  0 &   0 &   0 & ⋯ &  0 &   0 &   0 &  0 &   0 &   0 &   1 &  0 &   0 &   0\\\\\n",
       "\t 4426298 &   0 &   0 &    0 &   0 &  0 &   0 &  0 &   1 &   0 & ⋯ &  0 &   0 &   4 &  1 &   0 &   0 &   4 &  0 &   0 &   0\\\\\n",
       "\t  887744 &  25 &  44 &    5 &   0 & 18 & 173 &  2 &   0 &   0 & ⋯ & 20 & 138 &   0 & 14 &  24 &  17 &   0 &  5 &   0 &   0\\\\\n",
       "\t  187535 &   0 & 137 &    0 &   5 &  0 &   0 &  0 &   0 &   0 & ⋯ &  0 &   0 & 480 &  2 &   0 &   0 &   0 &  0 &   0 &  84\\\\\n",
       "\t 4435655 &   0 &   0 &    0 &   0 &  0 &   0 &  0 &   0 &   0 & ⋯ &  0 &   0 &   0 &  0 &   0 &   0 &   0 &  6 &   1 &   0\\\\\n",
       "\t  134265 &   0 &  28 &    2 &   0 &  0 &   0 &  0 &   9 &   9 & ⋯ &  0 & 217 &   0 &  0 &   1 &   0 &   0 &  0 &   1 &   0\\\\\n",
       "\t 4467810 &   0 &   0 &    0 &   0 &  0 &   0 &  0 &   1 &   0 & ⋯ &  0 &   1 &   0 &  0 &   9 &   0 &   0 &  0 &   1 &   0\\\\\n",
       "\t 4414822 &   0 &   0 &    0 &   0 &  0 &   0 &  0 &   0 &   1 & ⋯ &  0 &   0 &   0 &  0 &   1 &   0 &  14 &  0 &  92 &   0\\\\\n",
       "\t 4364176 &   0 &   0 &    0 &   0 & 16 &   2 & 57 &  62 &   2 & ⋯ & 13 &   0 &   0 &  0 &  15 &  34 &   0 &  0 &   0 &   0\\\\\n",
       "\t   92512 &   1 &   0 &    4 &   0 & 10 &   3 &  0 &   0 &  62 & ⋯ & 11 &   0 &   0 & 12 &  73 &   0 &   4 &  6 &   0 &   0\\\\\n",
       "\t 4344651 &   0 &   0 &    0 &   0 &  0 &   0 &  0 &   0 &   0 & ⋯ &  0 &   0 &   0 &  0 &   0 &   0 &   0 &  0 &   4 &   0\\\\\n",
       "\t 4380450 &   0 &   0 &    0 &   0 &  0 &   1 &  0 &   0 &   0 & ⋯ &  0 &   0 &   0 &  0 &   0 &   0 &   0 &  0 &   0 &   0\\\\\n",
       "\t 4478125 &   0 &   9 &    1 &   0 &  1 &   5 &  0 &   1 &   1 & ⋯ &  2 &   0 &   1 &  0 &   0 &   8 &  15 &  3 & 121 &   0\\\\\n",
       "\t  164237 &   0 &   2 &    0 &   1 &  0 &   0 &  0 &   0 &   0 & ⋯ &  0 &   0 & 142 &  0 &   0 &   0 &   2 &  0 &   0 &  20\\\\\n",
       "\t    8281 &   0 &   1 &    0 &   0 &  0 &   0 &  0 &   0 &   0 & ⋯ &  0 &   0 &   0 &  0 &   0 &   0 &   0 &  2 &   0 &   1\\\\\n",
       "\t 4327233 &   0 &   0 &    0 &   0 &  0 &   0 &  0 &   0 &   1 & ⋯ &  0 &   0 &   0 &  0 &   0 &   0 &   0 &  0 &  17 &   4\\\\\n",
       "\t  367879 &   1 &   0 &    0 &   0 &  0 &   0 &  0 &   0 &   0 & ⋯ &  0 &   0 &   1 &  1 &   0 &   0 &   0 &  0 &  61 &   0\\\\\n",
       "\t 4419886 &   0 &   0 &    0 &   2 &  0 &   0 &  1 &   0 &   0 & ⋯ &  0 &   5 &   2 &  1 &   0 &   0 &   0 &  3 &   4 &   3\\\\\n",
       "\t 1887414 &   0 &   0 &    1 &   5 &  9 &   0 & 26 &   2 &   1 & ⋯ &  2 &   0 &   0 &  0 &   1 &  29 &   0 &  2 &   0 &   0\\\\\n",
       "\t   92535 & 348 &  10 &  710 & 143 & 54 & 255 & 39 &  20 & 124 & ⋯ & 80 &  42 &   7 & 71 &  12 & 115 &   2 & 18 &   5 &  14\\\\\n",
       "\t 4459196 &   0 &   0 &    0 &   0 &  0 &   0 &  0 &   0 &   0 & ⋯ &  0 &   0 &   1 &  0 &   0 &   1 &  61 &  0 &   0 &   0\\\\\n",
       "\t 4480529 &   0 &   0 &    1 &   0 &  0 &   0 &  0 &   1 &   0 & ⋯ &  0 &   0 &  23 &  0 &   0 &   0 &  25 &  0 &   1 &   0\\\\\n",
       "\t  374568 &   0 &   0 &    0 &   0 &  0 &   0 &  0 &   0 &   6 & ⋯ &  0 &   0 &   0 &  0 &   0 &   0 &   0 &  0 &   0 &   0\\\\\n",
       "\t 4447105 &   0 &   0 &    1 &   1 &  0 &   0 &  0 &   2 &   0 & ⋯ &  0 &  36 &   0 &  0 &   1 &   1 &   0 &  0 &  44 &   0\\\\\n",
       "\t 4346127 &   8 &   0 & 2793 & 188 & 16 &   0 & 92 & 293 &  40 & ⋯ & 24 & 111 &   2 & 18 & 222 &   6 &   5 & 33 & 515 &   1\\\\\n",
       "\t  435512 &   2 &   0 &    0 &   0 &  0 &   0 &  0 &   0 &   0 & ⋯ &  0 &   0 &   0 &  0 &   0 &   0 &   0 &  0 &   4 &   0\\\\\n",
       "\t 4365130 &   0 &   0 &    0 &   0 &  0 &   0 &  0 &   2 &   1 & ⋯ &  0 &   4 &   0 &  0 &   0 &   4 & 436 &  0 &   1 &   0\\\\\n",
       "\t ⋮ & ⋮ & ⋮ & ⋮ & ⋮ & ⋮ & ⋮ & ⋮ & ⋮ & ⋮ & ⋱ & ⋮ & ⋮ & ⋮ & ⋮ & ⋮ & ⋮ & ⋮ & ⋮ & ⋮ & ⋮\\\\\n",
       "\t  109382 &  0 &    2 &    0 &   0 &    0 &    0 &    0 &    0 &  0 & ⋯ &    0 &    0 &   0 &   0 &    0 &   0 &    0 &  0 &    7 &   0\\\\\n",
       "\t 4457872 &  0 &  135 &    0 &   0 &    0 &    1 &    0 &    2 &  0 & ⋯ &    1 &   59 &   0 &   0 &    1 &   1 &  267 &  1 &   55 &   0\\\\\n",
       "\t   13463 &  0 &    0 &    0 &   0 &    0 &    0 &    0 &    0 &  0 & ⋯ &    0 &    4 &  12 &   0 &    0 &   0 &    0 &  1 &    2 &   0\\\\\n",
       "\t  269907 & 42 & 1612 &   11 &  44 & 1146 & 3671 &   66 & 1292 & 59 & ⋯ & 1053 & 1469 &  29 & 611 &  131 & 312 &   18 & 16 & 3558 &  69\\\\\n",
       "\t  576819 &  0 &    0 &    0 &   0 &    0 &    1 &    0 &    0 &  0 & ⋯ &    0 &    0 &   0 &   0 &    0 &   0 &    0 &  0 &    0 &   0\\\\\n",
       "\t  399903 &  0 &    0 &  104 &  49 &   94 &  128 & 1130 &  169 &  0 & ⋯ &   92 &    0 &   0 &   0 &    0 & 219 &  230 &  0 &    0 &   0\\\\\n",
       "\t 4419276 &  3 &   49 &    0 &   0 &    0 &    0 &    0 &    2 &  0 & ⋯ &    0 &    1 &   2 &  12 &    0 &   0 &    0 &  3 &  235 &   1\\\\\n",
       "\t  248902 &  0 &    0 &    0 &   0 &    0 &    0 &    0 &    0 &  0 & ⋯ &    2 &    0 &   0 &   0 &    1 &   0 &   12 &  0 &    0 &   0\\\\\n",
       "\t  536008 &  0 &    0 &    0 &   0 &    0 &    0 &    0 &    0 &  0 & ⋯ &    0 &    0 &   0 &   0 &    0 &   0 &    0 &  0 &    0 &   0\\\\\n",
       "\t  540055 &  0 &    0 &    0 &   0 &    0 &    0 &    0 &    0 &  0 & ⋯ &    0 &    0 &   0 &   0 &    0 &   0 &    0 &  1 &    0 &   0\\\\\n",
       "\t 4347159 &  5 &   31 &   10 &   6 &    1 &    9 &    4 &   66 & 44 & ⋯ &   10 &   84 &  24 &   5 &    4 &   0 & 2125 &  3 &   53 &   8\\\\\n",
       "\t  514453 &  0 &    1 &    0 &   0 &    0 &    0 &    0 &    0 &  0 & ⋯ &    0 &   11 &   0 &   0 &    0 &   0 &    0 &  0 &   15 &   0\\\\\n",
       "\t  137408 &  0 &    0 &    0 &   0 &    0 &    0 &    0 &    0 &  0 & ⋯ &    0 &    0 &   2 &   0 &    0 &   0 &    0 &  0 &    0 &   0\\\\\n",
       "\t  230213 &  0 &    0 &    0 &   0 &    0 &    0 &    0 &    0 &  0 & ⋯ &    0 &    0 &   0 &   0 &    0 &   0 &    0 &  0 &    1 &   0\\\\\n",
       "\t   74192 &  0 &    1 &    0 &   0 &    0 &    0 &    0 &    0 &  0 & ⋯ &    0 &    0 &   0 &   2 &    0 &   0 &    0 &  0 &    0 &   0\\\\\n",
       "\t 1980945 &  0 &    0 &    0 &   0 &    0 &    0 &    0 &    0 &  5 & ⋯ &    0 &    2 &   0 &   1 &    1 &   0 &    0 &  0 &    0 &   0\\\\\n",
       "\t   12558 &  0 &    0 &   10 &   0 &    6 &    1 &    1 &    1 &  3 & ⋯ &    3 &   13 &   0 &   0 &    6 &   8 &    0 &  0 &    2 &   1\\\\\n",
       "\t 4473227 & 62 &  114 & 2104 & 364 &  682 &  218 &  782 & 1266 & 91 & ⋯ &  963 & 6333 &  26 & 111 & 1657 & 551 &   31 & 19 & 2186 &  12\\\\\n",
       "\t 1067006 & 23 &    3 &    1 &   0 &   28 &    7 &    0 &    0 &  2 & ⋯ &   36 &   25 &   1 &   8 &    0 &   7 &    0 &  1 &    1 &   0\\\\\n",
       "\t  163494 &  0 &    0 &    0 &   0 &    0 &    0 &    0 &    0 &  0 & ⋯ &    0 &    0 &   0 &   0 &    0 &   0 &   37 &  0 &    0 &   0\\\\\n",
       "\t  787709 &  0 &    0 &    0 &   0 &    0 &    0 &    0 &    0 &  0 & ⋯ &    0 &    0 &   0 &   0 &    0 &   0 &    0 &  0 &    0 &   0\\\\\n",
       "\t  185420 &  0 &    0 &    0 &   0 &    0 &    0 &    0 &    0 &  1 & ⋯ &    0 &    0 &   0 &   0 &    0 &   0 &  234 &  1 &    0 &   0\\\\\n",
       "\t 4474760 &  0 &    0 &    0 &   0 &    0 &    0 &    0 &    0 &  0 & ⋯ &    2 &    0 &   1 &   0 &    0 &   0 &   11 &  0 &    0 &   0\\\\\n",
       "\t 4468125 &  0 &    0 &    1 &   0 &    0 &    0 &    0 &    0 &  0 & ⋯ &    0 &    0 &   0 &   0 &    0 &   0 &    0 &  0 &    0 &   0\\\\\n",
       "\t 4472294 &  6 &    3 &    6 & 522 &   20 &   46 &   65 &   21 &  3 & ⋯ &   28 &   26 &   1 &  54 &   43 &  13 &    3 &  0 &    2 &   1\\\\\n",
       "\t 4433523 &  2 &    4 &    0 &   0 &    0 &    0 &    0 &    2 &  0 & ⋯ &    0 &  669 &   0 &   8 &   28 &   1 &    0 &  0 &    0 &   0\\\\\n",
       "\t  239461 &  0 &    0 &    0 &   0 &    0 &    0 &    0 &    0 &  1 & ⋯ &    0 &    0 &   0 &   0 &    0 &   0 &    0 &  0 &    0 &   0\\\\\n",
       "\t  289990 &  0 &    0 &    0 &   0 &    0 &    0 &    0 &    0 &  0 & ⋯ &    0 &    1 &   0 &   0 &    0 &   0 &    0 &  0 &   43 &   0\\\\\n",
       "\t  270391 &  0 &  202 &    0 &   1 &    0 &    0 &    0 &    0 &  0 & ⋯ &    0 &    0 & 960 &   1 &    0 &   0 &   20 &  0 &    0 & 102\\\\\n",
       "\t 4445508 & 16 &    1 &   16 &   5 &    8 &   10 &    0 &    3 &  8 & ⋯ &    7 &    4 &   2 &   9 &    7 &   3 &    5 &  0 &    5 &   1\\\\\n",
       "\\end{tabular}\n"
      ],
      "text/markdown": [
       "\n",
       "A data.frame: 1900 × 548\n",
       "\n",
       "| X669126 &lt;int&gt; | X0.0 &lt;dbl&gt; | X0.0.1 &lt;dbl&gt; | X132.0 &lt;dbl&gt; | X178.0 &lt;dbl&gt; | X944.0 &lt;dbl&gt; | X67.0 &lt;dbl&gt; | X316.0 &lt;dbl&gt; | X1549.0 &lt;dbl&gt; | X9.0 &lt;dbl&gt; | ⋯ ⋯ | X991.0 &lt;dbl&gt; | X0.0.310 &lt;dbl&gt; | X0.0.311 &lt;dbl&gt; | X2.0.10 &lt;dbl&gt; | X192.0 &lt;dbl&gt; | X143.0 &lt;dbl&gt; | X48.0 &lt;dbl&gt; | X6.0.2 &lt;dbl&gt; | X14.0.2 &lt;dbl&gt; | X0.0.312 &lt;dbl&gt; |\n",
       "|---|---|---|---|---|---|---|---|---|---|---|---|---|---|---|---|---|---|---|---|---|\n",
       "| 4479397 |   0 |   0 |    0 |   1 |  0 |   0 |  0 |  23 |  12 | ⋯ |  0 |  52 |  48 |  1 |   0 |   0 | 760 |  0 |   0 | 115 |\n",
       "|  163857 |   0 |   0 |    0 |   0 |  4 |  10 |  0 |   0 |   0 | ⋯ | 42 |   0 |   0 |  0 |   0 |   9 |   0 |  0 |   0 |   0 |\n",
       "| 4377731 |   0 |   0 |    0 |   0 |  1 |   1 |  0 |   0 |   0 | ⋯ |  0 |   0 |   0 |  0 |   0 |   0 |   0 |  0 |   0 |   0 |\n",
       "| 4393532 |   0 |   0 |    1 |   0 |  0 |   0 |  0 |   0 |   0 | ⋯ |  0 |   0 |   0 |  0 |   0 |   0 |   1 |  0 |   0 |   0 |\n",
       "| 4426298 |   0 |   0 |    0 |   0 |  0 |   0 |  0 |   1 |   0 | ⋯ |  0 |   0 |   4 |  1 |   0 |   0 |   4 |  0 |   0 |   0 |\n",
       "|  887744 |  25 |  44 |    5 |   0 | 18 | 173 |  2 |   0 |   0 | ⋯ | 20 | 138 |   0 | 14 |  24 |  17 |   0 |  5 |   0 |   0 |\n",
       "|  187535 |   0 | 137 |    0 |   5 |  0 |   0 |  0 |   0 |   0 | ⋯ |  0 |   0 | 480 |  2 |   0 |   0 |   0 |  0 |   0 |  84 |\n",
       "| 4435655 |   0 |   0 |    0 |   0 |  0 |   0 |  0 |   0 |   0 | ⋯ |  0 |   0 |   0 |  0 |   0 |   0 |   0 |  6 |   1 |   0 |\n",
       "|  134265 |   0 |  28 |    2 |   0 |  0 |   0 |  0 |   9 |   9 | ⋯ |  0 | 217 |   0 |  0 |   1 |   0 |   0 |  0 |   1 |   0 |\n",
       "| 4467810 |   0 |   0 |    0 |   0 |  0 |   0 |  0 |   1 |   0 | ⋯ |  0 |   1 |   0 |  0 |   9 |   0 |   0 |  0 |   1 |   0 |\n",
       "| 4414822 |   0 |   0 |    0 |   0 |  0 |   0 |  0 |   0 |   1 | ⋯ |  0 |   0 |   0 |  0 |   1 |   0 |  14 |  0 |  92 |   0 |\n",
       "| 4364176 |   0 |   0 |    0 |   0 | 16 |   2 | 57 |  62 |   2 | ⋯ | 13 |   0 |   0 |  0 |  15 |  34 |   0 |  0 |   0 |   0 |\n",
       "|   92512 |   1 |   0 |    4 |   0 | 10 |   3 |  0 |   0 |  62 | ⋯ | 11 |   0 |   0 | 12 |  73 |   0 |   4 |  6 |   0 |   0 |\n",
       "| 4344651 |   0 |   0 |    0 |   0 |  0 |   0 |  0 |   0 |   0 | ⋯ |  0 |   0 |   0 |  0 |   0 |   0 |   0 |  0 |   4 |   0 |\n",
       "| 4380450 |   0 |   0 |    0 |   0 |  0 |   1 |  0 |   0 |   0 | ⋯ |  0 |   0 |   0 |  0 |   0 |   0 |   0 |  0 |   0 |   0 |\n",
       "| 4478125 |   0 |   9 |    1 |   0 |  1 |   5 |  0 |   1 |   1 | ⋯ |  2 |   0 |   1 |  0 |   0 |   8 |  15 |  3 | 121 |   0 |\n",
       "|  164237 |   0 |   2 |    0 |   1 |  0 |   0 |  0 |   0 |   0 | ⋯ |  0 |   0 | 142 |  0 |   0 |   0 |   2 |  0 |   0 |  20 |\n",
       "|    8281 |   0 |   1 |    0 |   0 |  0 |   0 |  0 |   0 |   0 | ⋯ |  0 |   0 |   0 |  0 |   0 |   0 |   0 |  2 |   0 |   1 |\n",
       "| 4327233 |   0 |   0 |    0 |   0 |  0 |   0 |  0 |   0 |   1 | ⋯ |  0 |   0 |   0 |  0 |   0 |   0 |   0 |  0 |  17 |   4 |\n",
       "|  367879 |   1 |   0 |    0 |   0 |  0 |   0 |  0 |   0 |   0 | ⋯ |  0 |   0 |   1 |  1 |   0 |   0 |   0 |  0 |  61 |   0 |\n",
       "| 4419886 |   0 |   0 |    0 |   2 |  0 |   0 |  1 |   0 |   0 | ⋯ |  0 |   5 |   2 |  1 |   0 |   0 |   0 |  3 |   4 |   3 |\n",
       "| 1887414 |   0 |   0 |    1 |   5 |  9 |   0 | 26 |   2 |   1 | ⋯ |  2 |   0 |   0 |  0 |   1 |  29 |   0 |  2 |   0 |   0 |\n",
       "|   92535 | 348 |  10 |  710 | 143 | 54 | 255 | 39 |  20 | 124 | ⋯ | 80 |  42 |   7 | 71 |  12 | 115 |   2 | 18 |   5 |  14 |\n",
       "| 4459196 |   0 |   0 |    0 |   0 |  0 |   0 |  0 |   0 |   0 | ⋯ |  0 |   0 |   1 |  0 |   0 |   1 |  61 |  0 |   0 |   0 |\n",
       "| 4480529 |   0 |   0 |    1 |   0 |  0 |   0 |  0 |   1 |   0 | ⋯ |  0 |   0 |  23 |  0 |   0 |   0 |  25 |  0 |   1 |   0 |\n",
       "|  374568 |   0 |   0 |    0 |   0 |  0 |   0 |  0 |   0 |   6 | ⋯ |  0 |   0 |   0 |  0 |   0 |   0 |   0 |  0 |   0 |   0 |\n",
       "| 4447105 |   0 |   0 |    1 |   1 |  0 |   0 |  0 |   2 |   0 | ⋯ |  0 |  36 |   0 |  0 |   1 |   1 |   0 |  0 |  44 |   0 |\n",
       "| 4346127 |   8 |   0 | 2793 | 188 | 16 |   0 | 92 | 293 |  40 | ⋯ | 24 | 111 |   2 | 18 | 222 |   6 |   5 | 33 | 515 |   1 |\n",
       "|  435512 |   2 |   0 |    0 |   0 |  0 |   0 |  0 |   0 |   0 | ⋯ |  0 |   0 |   0 |  0 |   0 |   0 |   0 |  0 |   4 |   0 |\n",
       "| 4365130 |   0 |   0 |    0 |   0 |  0 |   0 |  0 |   2 |   1 | ⋯ |  0 |   4 |   0 |  0 |   0 |   4 | 436 |  0 |   1 |   0 |\n",
       "| ⋮ | ⋮ | ⋮ | ⋮ | ⋮ | ⋮ | ⋮ | ⋮ | ⋮ | ⋮ | ⋱ | ⋮ | ⋮ | ⋮ | ⋮ | ⋮ | ⋮ | ⋮ | ⋮ | ⋮ | ⋮ |\n",
       "|  109382 |  0 |    2 |    0 |   0 |    0 |    0 |    0 |    0 |  0 | ⋯ |    0 |    0 |   0 |   0 |    0 |   0 |    0 |  0 |    7 |   0 |\n",
       "| 4457872 |  0 |  135 |    0 |   0 |    0 |    1 |    0 |    2 |  0 | ⋯ |    1 |   59 |   0 |   0 |    1 |   1 |  267 |  1 |   55 |   0 |\n",
       "|   13463 |  0 |    0 |    0 |   0 |    0 |    0 |    0 |    0 |  0 | ⋯ |    0 |    4 |  12 |   0 |    0 |   0 |    0 |  1 |    2 |   0 |\n",
       "|  269907 | 42 | 1612 |   11 |  44 | 1146 | 3671 |   66 | 1292 | 59 | ⋯ | 1053 | 1469 |  29 | 611 |  131 | 312 |   18 | 16 | 3558 |  69 |\n",
       "|  576819 |  0 |    0 |    0 |   0 |    0 |    1 |    0 |    0 |  0 | ⋯ |    0 |    0 |   0 |   0 |    0 |   0 |    0 |  0 |    0 |   0 |\n",
       "|  399903 |  0 |    0 |  104 |  49 |   94 |  128 | 1130 |  169 |  0 | ⋯ |   92 |    0 |   0 |   0 |    0 | 219 |  230 |  0 |    0 |   0 |\n",
       "| 4419276 |  3 |   49 |    0 |   0 |    0 |    0 |    0 |    2 |  0 | ⋯ |    0 |    1 |   2 |  12 |    0 |   0 |    0 |  3 |  235 |   1 |\n",
       "|  248902 |  0 |    0 |    0 |   0 |    0 |    0 |    0 |    0 |  0 | ⋯ |    2 |    0 |   0 |   0 |    1 |   0 |   12 |  0 |    0 |   0 |\n",
       "|  536008 |  0 |    0 |    0 |   0 |    0 |    0 |    0 |    0 |  0 | ⋯ |    0 |    0 |   0 |   0 |    0 |   0 |    0 |  0 |    0 |   0 |\n",
       "|  540055 |  0 |    0 |    0 |   0 |    0 |    0 |    0 |    0 |  0 | ⋯ |    0 |    0 |   0 |   0 |    0 |   0 |    0 |  1 |    0 |   0 |\n",
       "| 4347159 |  5 |   31 |   10 |   6 |    1 |    9 |    4 |   66 | 44 | ⋯ |   10 |   84 |  24 |   5 |    4 |   0 | 2125 |  3 |   53 |   8 |\n",
       "|  514453 |  0 |    1 |    0 |   0 |    0 |    0 |    0 |    0 |  0 | ⋯ |    0 |   11 |   0 |   0 |    0 |   0 |    0 |  0 |   15 |   0 |\n",
       "|  137408 |  0 |    0 |    0 |   0 |    0 |    0 |    0 |    0 |  0 | ⋯ |    0 |    0 |   2 |   0 |    0 |   0 |    0 |  0 |    0 |   0 |\n",
       "|  230213 |  0 |    0 |    0 |   0 |    0 |    0 |    0 |    0 |  0 | ⋯ |    0 |    0 |   0 |   0 |    0 |   0 |    0 |  0 |    1 |   0 |\n",
       "|   74192 |  0 |    1 |    0 |   0 |    0 |    0 |    0 |    0 |  0 | ⋯ |    0 |    0 |   0 |   2 |    0 |   0 |    0 |  0 |    0 |   0 |\n",
       "| 1980945 |  0 |    0 |    0 |   0 |    0 |    0 |    0 |    0 |  5 | ⋯ |    0 |    2 |   0 |   1 |    1 |   0 |    0 |  0 |    0 |   0 |\n",
       "|   12558 |  0 |    0 |   10 |   0 |    6 |    1 |    1 |    1 |  3 | ⋯ |    3 |   13 |   0 |   0 |    6 |   8 |    0 |  0 |    2 |   1 |\n",
       "| 4473227 | 62 |  114 | 2104 | 364 |  682 |  218 |  782 | 1266 | 91 | ⋯ |  963 | 6333 |  26 | 111 | 1657 | 551 |   31 | 19 | 2186 |  12 |\n",
       "| 1067006 | 23 |    3 |    1 |   0 |   28 |    7 |    0 |    0 |  2 | ⋯ |   36 |   25 |   1 |   8 |    0 |   7 |    0 |  1 |    1 |   0 |\n",
       "|  163494 |  0 |    0 |    0 |   0 |    0 |    0 |    0 |    0 |  0 | ⋯ |    0 |    0 |   0 |   0 |    0 |   0 |   37 |  0 |    0 |   0 |\n",
       "|  787709 |  0 |    0 |    0 |   0 |    0 |    0 |    0 |    0 |  0 | ⋯ |    0 |    0 |   0 |   0 |    0 |   0 |    0 |  0 |    0 |   0 |\n",
       "|  185420 |  0 |    0 |    0 |   0 |    0 |    0 |    0 |    0 |  1 | ⋯ |    0 |    0 |   0 |   0 |    0 |   0 |  234 |  1 |    0 |   0 |\n",
       "| 4474760 |  0 |    0 |    0 |   0 |    0 |    0 |    0 |    0 |  0 | ⋯ |    2 |    0 |   1 |   0 |    0 |   0 |   11 |  0 |    0 |   0 |\n",
       "| 4468125 |  0 |    0 |    1 |   0 |    0 |    0 |    0 |    0 |  0 | ⋯ |    0 |    0 |   0 |   0 |    0 |   0 |    0 |  0 |    0 |   0 |\n",
       "| 4472294 |  6 |    3 |    6 | 522 |   20 |   46 |   65 |   21 |  3 | ⋯ |   28 |   26 |   1 |  54 |   43 |  13 |    3 |  0 |    2 |   1 |\n",
       "| 4433523 |  2 |    4 |    0 |   0 |    0 |    0 |    0 |    2 |  0 | ⋯ |    0 |  669 |   0 |   8 |   28 |   1 |    0 |  0 |    0 |   0 |\n",
       "|  239461 |  0 |    0 |    0 |   0 |    0 |    0 |    0 |    0 |  1 | ⋯ |    0 |    0 |   0 |   0 |    0 |   0 |    0 |  0 |    0 |   0 |\n",
       "|  289990 |  0 |    0 |    0 |   0 |    0 |    0 |    0 |    0 |  0 | ⋯ |    0 |    1 |   0 |   0 |    0 |   0 |    0 |  0 |   43 |   0 |\n",
       "|  270391 |  0 |  202 |    0 |   1 |    0 |    0 |    0 |    0 |  0 | ⋯ |    0 |    0 | 960 |   1 |    0 |   0 |   20 |  0 |    0 | 102 |\n",
       "| 4445508 | 16 |    1 |   16 |   5 |    8 |   10 |    0 |    3 |  8 | ⋯ |    7 |    4 |   2 |   9 |    7 |   3 |    5 |  0 |    5 |   1 |\n",
       "\n"
      ],
      "text/plain": [
       "     X669126 X0.0 X0.0.1 X132.0 X178.0 X944.0 X67.0 X316.0 X1549.0 X9.0 ⋯\n",
       "1    4479397   0    0       0     1     0       0    0      23      12  ⋯\n",
       "2     163857   0    0       0     0     4      10    0       0       0  ⋯\n",
       "3    4377731   0    0       0     0     1       1    0       0       0  ⋯\n",
       "4    4393532   0    0       1     0     0       0    0       0       0  ⋯\n",
       "5    4426298   0    0       0     0     0       0    0       1       0  ⋯\n",
       "6     887744  25   44       5     0    18     173    2       0       0  ⋯\n",
       "7     187535   0  137       0     5     0       0    0       0       0  ⋯\n",
       "8    4435655   0    0       0     0     0       0    0       0       0  ⋯\n",
       "9     134265   0   28       2     0     0       0    0       9       9  ⋯\n",
       "10   4467810   0    0       0     0     0       0    0       1       0  ⋯\n",
       "11   4414822   0    0       0     0     0       0    0       0       1  ⋯\n",
       "12   4364176   0    0       0     0    16       2   57      62       2  ⋯\n",
       "13     92512   1    0       4     0    10       3    0       0      62  ⋯\n",
       "14   4344651   0    0       0     0     0       0    0       0       0  ⋯\n",
       "15   4380450   0    0       0     0     0       1    0       0       0  ⋯\n",
       "16   4478125   0    9       1     0     1       5    0       1       1  ⋯\n",
       "17    164237   0    2       0     1     0       0    0       0       0  ⋯\n",
       "18      8281   0    1       0     0     0       0    0       0       0  ⋯\n",
       "19   4327233   0    0       0     0     0       0    0       0       1  ⋯\n",
       "20    367879   1    0       0     0     0       0    0       0       0  ⋯\n",
       "21   4419886   0    0       0     2     0       0    1       0       0  ⋯\n",
       "22   1887414   0    0       1     5     9       0   26       2       1  ⋯\n",
       "23     92535 348   10     710   143    54     255   39      20     124  ⋯\n",
       "24   4459196   0    0       0     0     0       0    0       0       0  ⋯\n",
       "25   4480529   0    0       1     0     0       0    0       1       0  ⋯\n",
       "26    374568   0    0       0     0     0       0    0       0       6  ⋯\n",
       "27   4447105   0    0       1     1     0       0    0       2       0  ⋯\n",
       "28   4346127   8    0    2793   188    16       0   92     293      40  ⋯\n",
       "29    435512   2    0       0     0     0       0    0       0       0  ⋯\n",
       "30   4365130   0    0       0     0     0       0    0       2       1  ⋯\n",
       "⋮    ⋮       ⋮    ⋮      ⋮      ⋮      ⋮      ⋮     ⋮      ⋮       ⋮    ⋱\n",
       "1871  109382  0      2      0     0       0      0     0      0     0   ⋯\n",
       "1872 4457872  0    135      0     0       0      1     0      2     0   ⋯\n",
       "1873   13463  0      0      0     0       0      0     0      0     0   ⋯\n",
       "1874  269907 42   1612     11    44    1146   3671    66   1292    59   ⋯\n",
       "1875  576819  0      0      0     0       0      1     0      0     0   ⋯\n",
       "1876  399903  0      0    104    49      94    128  1130    169     0   ⋯\n",
       "1877 4419276  3     49      0     0       0      0     0      2     0   ⋯\n",
       "1878  248902  0      0      0     0       0      0     0      0     0   ⋯\n",
       "1879  536008  0      0      0     0       0      0     0      0     0   ⋯\n",
       "1880  540055  0      0      0     0       0      0     0      0     0   ⋯\n",
       "1881 4347159  5     31     10     6       1      9     4     66    44   ⋯\n",
       "1882  514453  0      1      0     0       0      0     0      0     0   ⋯\n",
       "1883  137408  0      0      0     0       0      0     0      0     0   ⋯\n",
       "1884  230213  0      0      0     0       0      0     0      0     0   ⋯\n",
       "1885   74192  0      1      0     0       0      0     0      0     0   ⋯\n",
       "1886 1980945  0      0      0     0       0      0     0      0     5   ⋯\n",
       "1887   12558  0      0     10     0       6      1     1      1     3   ⋯\n",
       "1888 4473227 62    114   2104   364     682    218   782   1266    91   ⋯\n",
       "1889 1067006 23      3      1     0      28      7     0      0     2   ⋯\n",
       "1890  163494  0      0      0     0       0      0     0      0     0   ⋯\n",
       "1891  787709  0      0      0     0       0      0     0      0     0   ⋯\n",
       "1892  185420  0      0      0     0       0      0     0      0     1   ⋯\n",
       "1893 4474760  0      0      0     0       0      0     0      0     0   ⋯\n",
       "1894 4468125  0      0      1     0       0      0     0      0     0   ⋯\n",
       "1895 4472294  6      3      6   522      20     46    65     21     3   ⋯\n",
       "1896 4433523  2      4      0     0       0      0     0      2     0   ⋯\n",
       "1897  239461  0      0      0     0       0      0     0      0     1   ⋯\n",
       "1898  289990  0      0      0     0       0      0     0      0     0   ⋯\n",
       "1899  270391  0    202      0     1       0      0     0      0     0   ⋯\n",
       "1900 4445508 16      1     16     5       8     10     0      3     8   ⋯\n",
       "     X991.0 X0.0.310 X0.0.311 X2.0.10 X192.0 X143.0 X48.0 X6.0.2 X14.0.2\n",
       "1     0      52       48       1        0      0    760    0       0    \n",
       "2    42       0        0       0        0      9      0    0       0    \n",
       "3     0       0        0       0        0      0      0    0       0    \n",
       "4     0       0        0       0        0      0      1    0       0    \n",
       "5     0       0        4       1        0      0      4    0       0    \n",
       "6    20     138        0      14       24     17      0    5       0    \n",
       "7     0       0      480       2        0      0      0    0       0    \n",
       "8     0       0        0       0        0      0      0    6       1    \n",
       "9     0     217        0       0        1      0      0    0       1    \n",
       "10    0       1        0       0        9      0      0    0       1    \n",
       "11    0       0        0       0        1      0     14    0      92    \n",
       "12   13       0        0       0       15     34      0    0       0    \n",
       "13   11       0        0      12       73      0      4    6       0    \n",
       "14    0       0        0       0        0      0      0    0       4    \n",
       "15    0       0        0       0        0      0      0    0       0    \n",
       "16    2       0        1       0        0      8     15    3     121    \n",
       "17    0       0      142       0        0      0      2    0       0    \n",
       "18    0       0        0       0        0      0      0    2       0    \n",
       "19    0       0        0       0        0      0      0    0      17    \n",
       "20    0       0        1       1        0      0      0    0      61    \n",
       "21    0       5        2       1        0      0      0    3       4    \n",
       "22    2       0        0       0        1     29      0    2       0    \n",
       "23   80      42        7      71       12    115      2   18       5    \n",
       "24    0       0        1       0        0      1     61    0       0    \n",
       "25    0       0       23       0        0      0     25    0       1    \n",
       "26    0       0        0       0        0      0      0    0       0    \n",
       "27    0      36        0       0        1      1      0    0      44    \n",
       "28   24     111        2      18      222      6      5   33     515    \n",
       "29    0       0        0       0        0      0      0    0       4    \n",
       "30    0       4        0       0        0      4    436    0       1    \n",
       "⋮    ⋮      ⋮        ⋮        ⋮       ⋮      ⋮      ⋮     ⋮      ⋮      \n",
       "1871    0      0       0        0        0     0       0   0        7   \n",
       "1872    1     59       0        0        1     1     267   1       55   \n",
       "1873    0      4      12        0        0     0       0   1        2   \n",
       "1874 1053   1469      29      611      131   312      18  16     3558   \n",
       "1875    0      0       0        0        0     0       0   0        0   \n",
       "1876   92      0       0        0        0   219     230   0        0   \n",
       "1877    0      1       2       12        0     0       0   3      235   \n",
       "1878    2      0       0        0        1     0      12   0        0   \n",
       "1879    0      0       0        0        0     0       0   0        0   \n",
       "1880    0      0       0        0        0     0       0   1        0   \n",
       "1881   10     84      24        5        4     0    2125   3       53   \n",
       "1882    0     11       0        0        0     0       0   0       15   \n",
       "1883    0      0       2        0        0     0       0   0        0   \n",
       "1884    0      0       0        0        0     0       0   0        1   \n",
       "1885    0      0       0        2        0     0       0   0        0   \n",
       "1886    0      2       0        1        1     0       0   0        0   \n",
       "1887    3     13       0        0        6     8       0   0        2   \n",
       "1888  963   6333      26      111     1657   551      31  19     2186   \n",
       "1889   36     25       1        8        0     7       0   1        1   \n",
       "1890    0      0       0        0        0     0      37   0        0   \n",
       "1891    0      0       0        0        0     0       0   0        0   \n",
       "1892    0      0       0        0        0     0     234   1        0   \n",
       "1893    2      0       1        0        0     0      11   0        0   \n",
       "1894    0      0       0        0        0     0       0   0        0   \n",
       "1895   28     26       1       54       43    13       3   0        2   \n",
       "1896    0    669       0        8       28     1       0   0        0   \n",
       "1897    0      0       0        0        0     0       0   0        0   \n",
       "1898    0      1       0        0        0     0       0   0       43   \n",
       "1899    0      0     960        1        0     0      20   0        0   \n",
       "1900    7      4       2        9        7     3       5   0        5   \n",
       "     X0.0.312\n",
       "1    115     \n",
       "2      0     \n",
       "3      0     \n",
       "4      0     \n",
       "5      0     \n",
       "6      0     \n",
       "7     84     \n",
       "8      0     \n",
       "9      0     \n",
       "10     0     \n",
       "11     0     \n",
       "12     0     \n",
       "13     0     \n",
       "14     0     \n",
       "15     0     \n",
       "16     0     \n",
       "17    20     \n",
       "18     1     \n",
       "19     4     \n",
       "20     0     \n",
       "21     3     \n",
       "22     0     \n",
       "23    14     \n",
       "24     0     \n",
       "25     0     \n",
       "26     0     \n",
       "27     0     \n",
       "28     1     \n",
       "29     0     \n",
       "30     0     \n",
       "⋮    ⋮       \n",
       "1871   0     \n",
       "1872   0     \n",
       "1873   0     \n",
       "1874  69     \n",
       "1875   0     \n",
       "1876   0     \n",
       "1877   1     \n",
       "1878   0     \n",
       "1879   0     \n",
       "1880   0     \n",
       "1881   8     \n",
       "1882   0     \n",
       "1883   0     \n",
       "1884   0     \n",
       "1885   0     \n",
       "1886   0     \n",
       "1887   1     \n",
       "1888  12     \n",
       "1889   0     \n",
       "1890   0     \n",
       "1891   0     \n",
       "1892   0     \n",
       "1893   0     \n",
       "1894   0     \n",
       "1895   1     \n",
       "1896   0     \n",
       "1897   0     \n",
       "1898   0     \n",
       "1899 102     \n",
       "1900   1     "
      ]
     },
     "metadata": {},
     "output_type": "display_data"
    }
   ],
   "source": [
    "data"
   ]
  },
  {
   "cell_type": "code",
   "execution_count": 73,
   "id": "17148968",
   "metadata": {},
   "outputs": [
    {
     "data": {
      "text/html": [
       "'Exported animal_secretion_flash.qza as NetworkDirectoryFormat to directory exported'"
      ],
      "text/latex": [
       "'Exported animal\\_secretion\\_flash.qza as NetworkDirectoryFormat to directory exported'"
      ],
      "text/markdown": [
       "'Exported animal_secretion_flash.qza as NetworkDirectoryFormat to directory exported'"
      ],
      "text/plain": [
       "[1] \"Exported animal_secretion_flash.qza as NetworkDirectoryFormat to directory exported\""
      ]
     },
     "metadata": {},
     "output_type": "display_data"
    }
   ],
   "source": [
    "system(paste(\"qiime tools export\", \n",
    "              \"--input-path\",\"animal_secretion_flash.qza\",\n",
    "             \"--output-path\",\"exported\"), intern=TRUE)"
   ]
  },
  {
   "cell_type": "code",
   "execution_count": 18,
   "id": "925e0dc1",
   "metadata": {},
   "outputs": [],
   "source": [
    "library(igraph)"
   ]
  },
  {
   "cell_type": "code",
   "execution_count": 76,
   "id": "cb45f3b7",
   "metadata": {},
   "outputs": [],
   "source": [
    "graph <- read_graph(\"network.graphml\", format = \"graphml\")\n",
    "#print(graph)\n",
    "#plot(graph)\n"
   ]
  },
  {
   "cell_type": "code",
   "execution_count": 77,
   "id": "b82a5198",
   "metadata": {},
   "outputs": [
    {
     "data": {
      "text/html": [
       "2392"
      ],
      "text/latex": [
       "2392"
      ],
      "text/markdown": [
       "2392"
      ],
      "text/plain": [
       "[1] 2392"
      ]
     },
     "metadata": {},
     "output_type": "display_data"
    },
    {
     "data": {
      "text/html": [
       "240651"
      ],
      "text/latex": [
       "240651"
      ],
      "text/markdown": [
       "240651"
      ],
      "text/plain": [
       "[1] 240651"
      ]
     },
     "metadata": {},
     "output_type": "display_data"
    }
   ],
   "source": [
    "vcount(graph)            # Number of vertices\n",
    "ecount(graph)            # Number of edges"
   ]
  },
  {
   "cell_type": "code",
   "execution_count": 5,
   "id": "46748870",
   "metadata": {},
   "outputs": [],
   "source": []
  },
  {
   "cell_type": "code",
   "execution_count": 68,
   "id": "a194b3d4",
   "metadata": {},
   "outputs": [
    {
     "data": {
      "text/html": [
       "'Saved FeatureTable[Frequency] to: animal_secretion_feature_filtered_.qza'"
      ],
      "text/latex": [
       "'Saved FeatureTable{[}Frequency{]} to: animal\\_secretion\\_feature\\_filtered\\_.qza'"
      ],
      "text/markdown": [
       "'Saved FeatureTable[Frequency] to: animal_secretion_feature_filtered_.qza'"
      ],
      "text/plain": [
       "[1] \"Saved FeatureTable[Frequency] to: animal_secretion_feature_filtered_.qza\""
      ]
     },
     "metadata": {},
     "output_type": "display_data"
    },
    {
     "data": {
      "text/html": [
       "'Saved FeatureTable[Frequency] to: animal_secretion_both_filtered.qza'"
      ],
      "text/latex": [
       "'Saved FeatureTable{[}Frequency{]} to: animal\\_secretion\\_both\\_filtered.qza'"
      ],
      "text/markdown": [
       "'Saved FeatureTable[Frequency] to: animal_secretion_both_filtered.qza'"
      ],
      "text/plain": [
       "[1] \"Saved FeatureTable[Frequency] to: animal_secretion_both_filtered.qza\""
      ]
     },
     "metadata": {},
     "output_type": "display_data"
    }
   ],
   "source": [
    "path=\"/home/zakir/from_pendrive/PhD/makarsa_community_analysis/animal_secretion.qza\"\n",
    "system(paste(\"qiime feature-table filter-features\",\n",
    "             \"--i-table\", path,\n",
    "             \"--p-min-samples\",100,\n",
    "             \"--p-min-frequency\",3000, \n",
    "             \"--o-filtered-table\", \"animal_secretion_feature_filtered_.qza\"), intern=TRUE)\n",
    "\n",
    "system(paste(\"qiime feature-table filter-samples\",\n",
    "             \"--i-table\", \"animal_secretion_feature_filtered_.qza\",\n",
    "             \"--p-min-features\",500,\n",
    "             \"--p-min-frequency\",3000,\n",
    "             \"--o-filtered-table\", \"animal_secretion_both_filtered.qza\"), intern=TRUE)"
   ]
  },
  {
   "cell_type": "code",
   "execution_count": null,
   "id": "12f3b384",
   "metadata": {},
   "outputs": [],
   "source": [
    "\n"
   ]
  }
 ],
 "metadata": {
  "kernelspec": {
   "display_name": "R",
   "language": "R",
   "name": "ir"
  },
  "language_info": {
   "codemirror_mode": "r",
   "file_extension": ".r",
   "mimetype": "text/x-r-source",
   "name": "R",
   "pygments_lexer": "r",
   "version": "4.2.2"
  }
 },
 "nbformat": 4,
 "nbformat_minor": 5
}
