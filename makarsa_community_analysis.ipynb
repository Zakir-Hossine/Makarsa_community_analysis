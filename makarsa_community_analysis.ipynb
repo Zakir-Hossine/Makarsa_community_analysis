{
 "cells": [
  {
   "cell_type": "code",
   "execution_count": 1,
   "id": "1f36a358",
   "metadata": {},
   "outputs": [],
   "source": [
    "path=\"/home/zakir/from_pendrive/PhD/makarsa_community_analysis/animal_secretion.qza\""
   ]
  },
  {
   "cell_type": "code",
   "execution_count": 2,
   "id": "385c76fa",
   "metadata": {},
   "outputs": [
    {
     "data": {
      "text/html": [
       "'Saved FeatureTable[Frequency] to: animal_secretion_filtered.qza'"
      ],
      "text/latex": [
       "'Saved FeatureTable{[}Frequency{]} to: animal\\_secretion\\_filtered.qza'"
      ],
      "text/markdown": [
       "'Saved FeatureTable[Frequency] to: animal_secretion_filtered.qza'"
      ],
      "text/plain": [
       "[1] \"Saved FeatureTable[Frequency] to: animal_secretion_filtered.qza\""
      ]
     },
     "metadata": {},
     "output_type": "display_data"
    }
   ],
   "source": [
    "system(paste(\"qiime feature-table filter-features\",\n",
    "             \"--i-table\", path,\n",
    "             \"--p-min-frequency\",100,\n",
    "             \"--p-min-samples\",10,\n",
    "             \"--o-filtered-table\", \"animal_secretion_filtered.qza\"), intern=TRUE)"
   ]
  },
  {
   "cell_type": "code",
   "execution_count": 1,
   "id": "c26cbaed",
   "metadata": {},
   "outputs": [
    {
     "data": {
      "text/html": [
       "'Saved Network to: animal_secretion_flash.qza'"
      ],
      "text/latex": [
       "'Saved Network to: animal\\_secretion\\_flash.qza'"
      ],
      "text/markdown": [
       "'Saved Network to: animal_secretion_flash.qza'"
      ],
      "text/plain": [
       "[1] \"Saved Network to: animal_secretion_flash.qza\""
      ]
     },
     "metadata": {},
     "output_type": "display_data"
    }
   ],
   "source": [
    "system(paste(\"qiime makarsa flashweave\",\n",
    "             \"--i-table\", \"animal_secretion_both_filtered.qza\",\n",
    "            # \"--m-metadata-file\",metadata,\n",
    "             \"--p-heterogeneous\", TRUE,         \n",
    "             \"--p-sensitive\", TRUE,             \n",
    "             \"--p-max-k\", 0,\n",
    "             \"--p-alpha\", 0.04 ,\n",
    "             \"--o-network\", \"animal_secretion_flash.qza\"), intern=TRUE)\n"
   ]
  },
  {
   "cell_type": "code",
   "execution_count": null,
   "id": "0f45a75f",
   "metadata": {},
   "outputs": [],
   "source": [
    "system(paste(\"qiime makarsa louvain-communities\",\n",
    "             \"--i-network\", \"animal_secretion_flash.qza\",\n",
    "             \"--o-community\", \"animal_secretion_node-map.qza\"), intern=TRUE)"
   ]
  },
  {
   "cell_type": "code",
   "execution_count": null,
   "id": "4c3766b6",
   "metadata": {},
   "outputs": [],
   "source": [
    "system(paste(\"qiime makarsa visualise-network\",\n",
    "             \"--i-network\", \"animal_secretion_flash.qza\",\n",
    "             \"--m-metadata-file\",\"animal_secretion_node-map.qza\",\n",
    "             \"--o-visualization\", \"animal_secretion_net.qzv\"), intern=TRUE)\n"
   ]
  },
  {
   "cell_type": "code",
   "execution_count": null,
   "id": "09da6ccf",
   "metadata": {},
   "outputs": [],
   "source": [
    "system(paste(\"qiime metadata tabulate\",\n",
    "             \" --m-input-file\", \"animal_secretion_node-map.qza\",\n",
    "             \"--o-visualization\", \"animal_secretion_node-map.qzv\"), intern=TRUE)\n"
   ]
  },
  {
   "cell_type": "code",
   "execution_count": null,
   "id": "1d7a70e5",
   "metadata": {},
   "outputs": [],
   "source": [
    "system(paste(\"qiime feature-table group\",\n",
    "             \"--i-table\", \"animal_secretion_filtered.qza\",\n",
    "             \"--p-axis\",feature,\n",
    "             \"--m-metadata-file\", \"animal_secretion_node-map.qza\",         \n",
    "             \"--m-metadata-column\",Community ,             \n",
    "             \"--p-mode\",sum,\n",
    "             \"--o-grouped-table\", \"animal_secretion_grouped_table.qza\"), intern=TRUE)\n",
    "\n",
    "\n",
    "#qiime feature-table group \\\n",
    "#--i-table sponge-feature-table.qza \\\n",
    "#--p-axis feature \\\n",
    "#--m-metadata-file node-map.qza \\\n",
    "#--m-metadata-column Community \\\n",
    "#--p-mode sum \\\n",
    "#--o-grouped-table grouped-table.qza"
   ]
  },
  {
   "cell_type": "code",
   "execution_count": null,
   "id": "a4702f4c",
   "metadata": {},
   "outputs": [],
   "source": []
  },
  {
   "cell_type": "code",
   "execution_count": null,
   "id": "0a13ae6c",
   "metadata": {},
   "outputs": [],
   "source": []
  },
  {
   "cell_type": "code",
   "execution_count": null,
   "id": "70fd2f99",
   "metadata": {},
   "outputs": [],
   "source": []
  }
 ],
 "metadata": {
  "kernelspec": {
   "display_name": "R",
   "language": "R",
   "name": "ir"
  },
  "language_info": {
   "codemirror_mode": "r",
   "file_extension": ".r",
   "mimetype": "text/x-r-source",
   "name": "R",
   "pygments_lexer": "r",
   "version": "4.2.2"
  }
 },
 "nbformat": 4,
 "nbformat_minor": 5
}
